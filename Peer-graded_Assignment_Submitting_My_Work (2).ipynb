{
  "metadata": {
    "kernelspec": {
      "name": "python",
      "display_name": "Python (Pyodide)",
      "language": "python"
    },
    "language_info": {
      "codemirror_mode": {
        "name": "python",
        "version": 3
      },
      "file_extension": ".py",
      "mimetype": "text/x-python",
      "name": "python",
      "nbconvert_exporter": "python",
      "pygments_lexer": "ipython3",
      "version": "3.8"
    }
  },
  "nbformat_minor": 4,
  "nbformat": 4,
  "cells": [
    {
      "cell_type": "markdown",
      "source": "Assignment Topic:\n\nI was provided with an empty Jupyterlite notebook which I launched in the course, to complete this assignment.\nI needed to include a combination of markdown and code cells. I did not needed to use the Markdown cheat sheet\nto help me determine the appropriate syntax for my markdown.\n",
      "metadata": {}
    },
    {
      "cell_type": "markdown",
      "source": "Exercise 1: Create a Jupyter Notebook\n",
      "metadata": {}
    },
    {
      "cell_type": "markdown",
      "source": "'Exercise 2 - Create a markdown cell with the title of the notebook.'\n# Data Science Tools and Ecosystem",
      "metadata": {}
    },
    {
      "cell_type": "markdown",
      "source": "### Exercise 3 - Create a markdown cell for an introduction.\n\nIn this notebook, Data Science Tools and Ecosystem are summarized.\n\nObjectives:\n\n>List popular languages that Data Scientists use.\n\n>List commonly used libraries used by Data Scientists.\n\n>Comment on Data Science tools.",
      "metadata": {}
    },
    {
      "cell_type": "markdown",
      "source": "### Exercise 4 - Create a markdown cell to list data science languages.\n\nSome of the popular languages that Data Scientists use are:\n\n>Python\n\n>R\n\n>SQL\n\n>Java\n\n>Julia\n\n>Scala\n\n>C/C++\n\n>JavaScript\n",
      "metadata": {}
    },
    {
      "cell_type": "markdown",
      "source": "### Exercise 5 - Create a markdown cell to list data science libraries.\n\nSome of the commonly used libraries used by Data Scientists include:\n\n>TensorFlow.\n\n>NumPy.\n\n>SciPy.\n\n>Scrapy.\n\n>BeautifulSoup.\n\n>LightGBM.\n\n>ELI5.\n\n>Theano.\n\n>NuPIC.\n\n>Ramp.\n\n>Pipenv.\n\n>Bob.\n\n>PyBrain.\n\n>Caffe2.\n\n>Chainer",
      "metadata": {}
    },
    {
      "cell_type": "markdown",
      "source": "### Exercise 6 - Create a markdown cell with a table of Data Science tools   \n  | Tools for Data Science |\n  |------------------------|\n  |Project Jupyter         |\n  |RStudio                 |\n  |SAS                     |\n  |Python                  |\n  |Apache Spark            |\n  |Tensor Flow             |\n  ",
      "metadata": {}
    },
    {
      "cell_type": "markdown",
      "source": "### Exercise 7 - Create a markdown cell introducing arithmetic expression examples. (1 pt)\n\n## Below are a few examples of evaluating arithmetic expressions in Python",
      "metadata": {}
    },
    {
      "cell_type": "code",
      "source": "## Arithmetic operations\n## Addition\na=10\nb=30\nc=a+b\nprint( 'Answer=', c)\n# Result:40",
      "metadata": {
        "trusted": true
      },
      "outputs": [
        {
          "name": "stdout",
          "text": "Answer= 40\n",
          "output_type": "stream"
        }
      ],
      "execution_count": 6
    },
    {
      "cell_type": "code",
      "source": "## Arithmetic operations\n##multiply\na=10\nb=45\nc=a*b\nprint( 'Answer=', c)\n# Result:450",
      "metadata": {
        "trusted": true
      },
      "outputs": [
        {
          "name": "stdout",
          "text": "Answer= 450\n",
          "output_type": "stream"
        }
      ],
      "execution_count": 7
    },
    {
      "cell_type": "markdown",
      "source": "### Exercise 8 - Create a code cell to multiply and add numbers.(2 pts)\n\n## This a simple arithmetic expression to mutiply then add integers",
      "metadata": {}
    },
    {
      "cell_type": "code",
      "source": "##This a simple arithmetic expression to mutiply then add integers\nexp= (3*4)+5\n#Result:17\nprint('Answer =',exp)",
      "metadata": {
        "trusted": true
      },
      "outputs": [
        {
          "name": "stdout",
          "text": "Answer = 17\n",
          "output_type": "stream"
        }
      ],
      "execution_count": 9
    },
    {
      "cell_type": "markdown",
      "source": "### Exercise 9 - Create a code cell to convert minutes to hours. (2 pts)\n\n ## This will convert 200 minutes to hours by diving by 60",
      "metadata": {}
    },
    {
      "cell_type": "code",
      "source": "#given time in minutes=200\n# for convert it onto hours formula is 200/60\ntime1=200 \nprint(time1)\ntime2= time1/60\n\nprint( 'Time in hours =' ,time2)\n##Result:3.2",
      "metadata": {
        "trusted": true
      },
      "outputs": [
        {
          "name": "stdout",
          "text": "200\nTime in hours = 3.3333333333333335\n",
          "output_type": "stream"
        }
      ],
      "execution_count": 16
    },
    {
      "cell_type": "markdown",
      "source": "### Exercise 10 - Insert a markdown cell to list Objectives\n## Objectives:\n\n1.List of popular languages used in Data Science.\n\n2.Some of the commonly used libraries used by Data Scientists\n\n3.Some Arithimetic Expression codes.\n\n4.Table of Data Science tools etc.\n\n    ",
      "metadata": {}
    },
    {
      "cell_type": "markdown",
      "source": "### Exercise 11 - Create a markdown cell to indicate the Author's name\n## Author \n  Uday Yadav",
      "metadata": {}
    },
    {
      "cell_type": "code",
      "source": "",
      "metadata": {
        "trusted": true
      },
      "outputs": [],
      "execution_count": null
    }
  ]
}